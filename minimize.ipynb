{
 "cells": [
  {
   "cell_type": "code",
   "execution_count": 1,
   "metadata": {},
   "outputs": [],
   "source": [
    "import os\n",
    "import pandas as pd\n",
    "\n",
    "train_ads = pd.read_csv('archive/train/train_data_ads.csv')\n",
    "\n"
   ]
  },
  {
   "cell_type": "code",
   "execution_count": 2,
   "metadata": {},
   "outputs": [],
   "source": [
    "drop_features = ['site_id', 'log_id', 'u_newsCatInterestsST', 'ad_click_list_v001','ad_click_list_v002',\n",
    "                 'user_id','ad_click_list_v003','adv_id','task_id','pt_d', 'ad_close_list_v001',\n",
    "                'ad_close_list_v002','ad_close_list_v003','device_size','adv_prim_id','city','device_name','spread_app_id']"
   ]
  },
  {
   "cell_type": "code",
   "execution_count": 3,
   "metadata": {},
   "outputs": [
    {
     "data": {
      "text/plain": [
       "Index(['log_id', 'label', 'user_id', 'age', 'gender', 'residence', 'city',\n",
       "       'city_rank', 'series_dev', 'series_group', 'emui_dev', 'device_name',\n",
       "       'device_size', 'net_type', 'task_id', 'adv_id', 'creat_type_cd',\n",
       "       'adv_prim_id', 'inter_type_cd', 'slot_id', 'site_id', 'spread_app_id',\n",
       "       'hispace_app_tags', 'app_second_class', 'app_score',\n",
       "       'ad_click_list_v001', 'ad_click_list_v002', 'ad_click_list_v003',\n",
       "       'ad_close_list_v001', 'ad_close_list_v002', 'ad_close_list_v003',\n",
       "       'pt_d', 'u_newsCatInterestsST', 'u_refreshTimes', 'u_feedLifeCycle'],\n",
       "      dtype='object')"
      ]
     },
     "execution_count": 3,
     "metadata": {},
     "output_type": "execute_result"
    }
   ],
   "source": [
    "train_ads.columns"
   ]
  },
  {
   "cell_type": "code",
   "execution_count": 4,
   "metadata": {},
   "outputs": [
    {
     "data": {
      "text/plain": [
       "Index(['label', 'age', 'gender', 'residence', 'city_rank', 'series_dev',\n",
       "       'series_group', 'emui_dev', 'net_type', 'creat_type_cd',\n",
       "       'inter_type_cd', 'slot_id', 'hispace_app_tags', 'app_second_class',\n",
       "       'app_score', 'u_refreshTimes', 'u_feedLifeCycle'],\n",
       "      dtype='object')"
      ]
     },
     "execution_count": 4,
     "metadata": {},
     "output_type": "execute_result"
    }
   ],
   "source": [
    "train_ads.drop(columns=drop_features, inplace=True)\n",
    "train_ads.columns"
   ]
  },
  {
   "cell_type": "code",
   "execution_count": 5,
   "metadata": {},
   "outputs": [],
   "source": [
    "train_ads.to_csv('train_ads_minimal.csv', index=False)"
   ]
  },
  {
   "cell_type": "code",
   "execution_count": 6,
   "metadata": {},
   "outputs": [
    {
     "data": {
      "text/plain": [
       "label                2\n",
       "app_score            3\n",
       "gender               3\n",
       "inter_type_cd        4\n",
       "city_rank            4\n",
       "net_type             6\n",
       "series_group         7\n",
       "age                  8\n",
       "u_feedLifeCycle      8\n",
       "creat_type_cd        9\n",
       "u_refreshTimes      10\n",
       "app_second_class    20\n",
       "emui_dev            27\n",
       "series_dev          27\n",
       "residence           35\n",
       "hispace_app_tags    43\n",
       "slot_id             60\n",
       "dtype: int64"
      ]
     },
     "execution_count": 6,
     "metadata": {},
     "output_type": "execute_result"
    }
   ],
   "source": [
    "train_ads.nunique().sort_values()"
   ]
  }
 ],
 "metadata": {
  "kernelspec": {
   "display_name": ".venv",
   "language": "python",
   "name": "python3"
  },
  "language_info": {
   "codemirror_mode": {
    "name": "ipython",
    "version": 3
   },
   "file_extension": ".py",
   "mimetype": "text/x-python",
   "name": "python",
   "nbconvert_exporter": "python",
   "pygments_lexer": "ipython3",
   "version": "3.9.6"
  }
 },
 "nbformat": 4,
 "nbformat_minor": 2
}
